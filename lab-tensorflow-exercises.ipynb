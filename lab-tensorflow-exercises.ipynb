{
 "cells": [
  {
   "cell_type": "markdown",
   "id": "3a5cebdd-8051-4e1d-83e0-b4acf1449c1c",
   "metadata": {},
   "source": [
    "# Tensorflow exercices"
   ]
  },
  {
   "cell_type": "markdown",
   "id": "9b7ac934-4d62-469e-8385-7cd0f9129f22",
   "metadata": {},
   "source": [
    "Exercise 1: Create a TensorFlow constant tensor with values [1, 2, 3, 4, 5]."
   ]
  },
  {
   "cell_type": "code",
   "execution_count": 12,
   "id": "ea07c382",
   "metadata": {},
   "outputs": [
    {
     "name": "stdout",
     "output_type": "stream",
     "text": [
      "tf.Tensor([1. 2. 3. 4. 5.], shape=(5,), dtype=float32)\n"
     ]
    }
   ],
   "source": [
    "import tensorflow as tf\n",
    "\n",
    "tensor = tf.constant([1,2,3,4,5], dtype=tf.float32)\n",
    "\n",
    "print(tensor)"
   ]
  },
  {
   "cell_type": "markdown",
   "id": "a6aebc47-b310-4d2e-8ac9-21ce00410cec",
   "metadata": {},
   "source": [
    "Exercise 2: Create a TensorFlow variable tensor initialized with zeros of shape (3, 3)."
   ]
  },
  {
   "cell_type": "code",
   "execution_count": 13,
   "id": "398bb8b7",
   "metadata": {},
   "outputs": [
    {
     "name": "stdout",
     "output_type": "stream",
     "text": [
      "<tf.Variable 'Variable:0' shape=(3, 3) dtype=float32, numpy=\n",
      "array([[0., 0., 0.],\n",
      "       [0., 0., 0.],\n",
      "       [0., 0., 0.]], dtype=float32)>\n"
     ]
    }
   ],
   "source": [
    "tensor_2 = tf.Variable(tf.zeros((3, 3)))\n",
    "\n",
    "print(tensor_2)"
   ]
  },
  {
   "cell_type": "markdown",
   "id": "e60991d8-79e7-48c5-8f28-6190f62a0ed3",
   "metadata": {},
   "source": [
    "Exercise 3: Perform matrix multiplication of two TensorFlow constant tensors A and B."
   ]
  },
  {
   "cell_type": "code",
   "execution_count": 14,
   "id": "6d9c3912",
   "metadata": {},
   "outputs": [
    {
     "name": "stdout",
     "output_type": "stream",
     "text": [
      "tf.Tensor(\n",
      "[[49 46]\n",
      " [56 56]], shape=(2, 2), dtype=int32)\n"
     ]
    }
   ],
   "source": [
    "\n",
    "A = tf.constant([[5, 2], [4, 4]])\n",
    "B = tf.constant([[7, 6], [7, 8]])\n",
    "C = tf.matmul(A, B)\n",
    "\n",
    "print(C)\n"
   ]
  },
  {
   "cell_type": "markdown",
   "id": "7fd7d031-c20b-48ee-82a9-227c9ce109ea",
   "metadata": {},
   "source": [
    "Exercise 4: Create a TensorFlow placeholder for a scalar value."
   ]
  },
  {
   "cell_type": "markdown",
   "id": "6ccf6ee2-3c4e-4ed1-822d-9843419936bb",
   "metadata": {},
   "source": [
    "Exercise 5: Define a TensorFlow operation to compute the element-wise product of two tensors."
   ]
  },
  {
   "cell_type": "code",
   "execution_count": 16,
   "id": "4119d14e",
   "metadata": {},
   "outputs": [
    {
     "name": "stdout",
     "output_type": "stream",
     "text": [
      "tf.Tensor([ 4 10 18], shape=(3,), dtype=int32)\n"
     ]
    }
   ],
   "source": [
    "\n",
    "tensor_a = tf.constant([1, 2, 3])\n",
    "tensor_b = tf.constant([4, 5, 6])\n",
    "elementwise_product = tf.multiply(tensor_a, tensor_b)\n",
    "print(elementwise_product)\n"
   ]
  },
  {
   "cell_type": "markdown",
   "id": "87ca09f9-7976-4d21-b32d-94e25488ad59",
   "metadata": {},
   "source": [
    "Exercise 6: Create a TensorFlow graph to compute the mean of a given tensor along a specified axis."
   ]
  },
  {
   "cell_type": "code",
   "execution_count": 17,
   "id": "52a94467",
   "metadata": {},
   "outputs": [
    {
     "name": "stdout",
     "output_type": "stream",
     "text": [
      "tf.Tensor([2 3 4], shape=(3,), dtype=int32)\n"
     ]
    }
   ],
   "source": [
    "\n",
    "tensor_3 = tf.constant([[1, 2, 3], [4, 5, 6]])\n",
    "mean_tensor = tf.reduce_mean(tensor_3, axis=0)\n",
    "print(mean_tensor)\n"
   ]
  },
  {
   "cell_type": "markdown",
   "id": "51602021-3f03-4ab4-bdfc-fbc3dca0e321",
   "metadata": {},
   "source": [
    "Exercise 7: Implement a simple linear regression model using TensorFlow."
   ]
  },
  {
   "cell_type": "code",
   "execution_count": 22,
   "id": "5fd29742",
   "metadata": {},
   "outputs": [
    {
     "name": "stdout",
     "output_type": "stream",
     "text": [
      "Epoch 0: Loss: 44.0\n"
     ]
    },
    {
     "name": "stdout",
     "output_type": "stream",
     "text": [
      "Epoch 100: Loss: 0.024474427103996277\n",
      "Epoch 200: Loss: 0.012432219460606575\n",
      "Epoch 300: Loss: 0.006315155886113644\n",
      "Epoch 400: Loss: 0.003207895439118147\n",
      "Epoch 500: Loss: 0.001629501348361373\n",
      "Epoch 600: Loss: 0.0008277297019958496\n",
      "Epoch 700: Loss: 0.00042046388261951506\n",
      "Epoch 800: Loss: 0.00021357601508498192\n",
      "Epoch 900: Loss: 0.0001084920804714784\n",
      "Final W: 1.995180368423462, b: 0.01740049012005329\n"
     ]
    }
   ],
   "source": [
    "\n",
    "\n",
    "# Generating some sample data\n",
    "X_train = tf.constant([1, 2, 3, 4, 5], dtype=tf.float32)\n",
    "y_train = tf.constant([2, 4, 6, 8, 10], dtype=tf.float32)\n",
    "\n",
    "# Variables\n",
    "W = tf.Variable(0.0)\n",
    "b = tf.Variable(0.0)\n",
    "\n",
    "# Linear regression model\n",
    "def linear_regression(X):\n",
    "    return W * X + b\n",
    "\n",
    "# Loss function (MSE: low MSE indicates better model performance)\n",
    "def mean_squared_error(y_true, y_pred):\n",
    "    return tf.reduce_mean(tf.square(y_true - y_pred))\n",
    "\n",
    "# Optimizer (Stochastic Gradient Descent)\n",
    "optimizer = tf.optimizers.SGD(learning_rate=0.01)\n",
    "\n",
    "# Training function (comput predictions, calculate loss, computes gradients and updates parameters)\n",
    "def train_step(X, y):\n",
    "    with tf.GradientTape() as tape: #records operations for automatic differentiation\n",
    "        predictions = linear_regression(X)\n",
    "        loss = mean_squared_error(y, predictions)\n",
    "    gradients = tape.gradient(loss, [W, b]) #computes the gradients of the loss with respect to the model parameters W and b\n",
    "    optimizer.apply_gradients(zip(gradients, [W, b])) #The gradients computed in the previous step are used to update the model parameters (W and b) \n",
    "    return loss\n",
    "\n",
    "# Training loop\n",
    "for epoch in range(1000):\n",
    "    loss = train_step(X_train, y_train)\n",
    "    if epoch % 100 == 0: #print per 100\n",
    "        print(f'Epoch {epoch}: Loss: {loss.numpy()}')\n",
    "\n",
    "print(f'Final W: {W.numpy()}, b: {b.numpy()}')\n"
   ]
  },
  {
   "cell_type": "markdown",
   "id": "3abe932c-332d-48d9-a98d-64d98d3e7127",
   "metadata": {},
   "source": [
    "Exercise 8: Create a TensorFlow dataset from a NumPy array."
   ]
  },
  {
   "cell_type": "code",
   "execution_count": 19,
   "id": "6c0b58f6",
   "metadata": {},
   "outputs": [
    {
     "name": "stdout",
     "output_type": "stream",
     "text": [
      "tf.Tensor(1, shape=(), dtype=int64)\n",
      "tf.Tensor(2, shape=(), dtype=int64)\n",
      "tf.Tensor(3, shape=(), dtype=int64)\n",
      "tf.Tensor(4, shape=(), dtype=int64)\n",
      "tf.Tensor(5, shape=(), dtype=int64)\n"
     ]
    },
    {
     "name": "stderr",
     "output_type": "stream",
     "text": [
      "2024-05-30 14:10:27.291172: I tensorflow/core/common_runtime/executor.cc:1197] [/device:CPU:0] (DEBUG INFO) Executor start aborting (this does not indicate an error and you can ignore this message): INVALID_ARGUMENT: You must feed a value for placeholder tensor 'Placeholder/_0' with dtype int64 and shape [5]\n",
      "\t [[{{node Placeholder/_0}}]]\n"
     ]
    }
   ],
   "source": [
    "import numpy as np\n",
    "\n",
    "numpy_array = np.array([1, 2, 3, 4, 5])\n",
    "dataset = tf.data.Dataset.from_tensor_slices(numpy_array)\n",
    "for element in dataset:\n",
    "    print(element)\n"
   ]
  },
  {
   "cell_type": "markdown",
   "id": "546d0040-6c83-430d-af7f-afadd22e03c2",
   "metadata": {},
   "source": [
    "Exercise 9: Define a custom TensorFlow function using tf.function decorator."
   ]
  },
  {
   "cell_type": "code",
   "execution_count": 1,
   "id": "0e3fe796",
   "metadata": {},
   "outputs": [
    {
     "name": "stderr",
     "output_type": "stream",
     "text": [
      "2024-05-30 17:25:58.412721: I tensorflow/core/platform/cpu_feature_guard.cc:182] This TensorFlow binary is optimized to use available CPU instructions in performance-critical operations.\n",
      "To enable the following instructions: SSE4.1 SSE4.2 AVX AVX2 FMA, in other operations, rebuild TensorFlow with the appropriate compiler flags.\n"
     ]
    },
    {
     "name": "stdout",
     "output_type": "stream",
     "text": [
      "tf.Tensor(9, shape=(), dtype=int32)\n"
     ]
    }
   ],
   "source": [
    "import tensorflow as tf\n",
    "\n",
    "@tf.function\n",
    "def my_function(x, y):\n",
    "    return x * y + y\n",
    "\n",
    "# Using the function\n",
    "a = tf.constant(2)\n",
    "b = tf.constant(3)\n",
    "\n",
    "result = my_function(a, b)\n",
    "print(result)  # Output will be a TensorFlow tensor\n"
   ]
  },
  {
   "cell_type": "markdown",
   "id": "c9b39e03-dfea-42af-8821-fb950df430b1",
   "metadata": {},
   "source": [
    "Exercise 10: Load and preprocess an image using TensorFlow."
   ]
  },
  {
   "cell_type": "code",
   "execution_count": 23,
   "id": "66831568",
   "metadata": {},
   "outputs": [
    {
     "name": "stdout",
     "output_type": "stream",
     "text": [
      "(224, 224, 3)\n"
     ]
    }
   ],
   "source": [
    "\n",
    "\n",
    "def load_and_preprocess_image(path):\n",
    "    image = tf.io.read_file(path)\n",
    "    image = tf.image.decode_jpeg(image, channels=3)\n",
    "    image = tf.image.resize(image, [224, 224])\n",
    "    image = image / 255.0  # Normalize to [0,1]\n",
    "    return image\n",
    "\n",
    "image_path = 'dog.jpeg'\n",
    "image = load_and_preprocess_image(image_path)\n",
    "print(image.shape)\n"
   ]
  },
  {
   "cell_type": "markdown",
   "id": "4a60fc5d-b32b-45df-8dca-696de227947f",
   "metadata": {},
   "source": [
    "Exercise 11: Neural Network\n",
    "Build and train a neural network with one hidden layer on the MNIST dataset."
   ]
  },
  {
   "cell_type": "code",
   "execution_count": 24,
   "id": "fa4818c6-449d-4f26-8b81-fcc67789a5c2",
   "metadata": {},
   "outputs": [
    {
     "name": "stdout",
     "output_type": "stream",
     "text": [
      "Epoch 1/5\n",
      "1875/1875 [==============================] - 11s 5ms/step - loss: 0.2581 - accuracy: 0.9266\n",
      "Epoch 2/5\n",
      "1875/1875 [==============================] - 8s 4ms/step - loss: 0.1142 - accuracy: 0.9668\n",
      "Epoch 3/5\n",
      "1875/1875 [==============================] - 10s 6ms/step - loss: 0.0803 - accuracy: 0.9761\n",
      "Epoch 4/5\n",
      "1875/1875 [==============================] - 9s 5ms/step - loss: 0.0599 - accuracy: 0.9819\n",
      "Epoch 5/5\n",
      "1875/1875 [==============================] - 10s 5ms/step - loss: 0.0463 - accuracy: 0.9856\n",
      "313/313 [==============================] - 1s 3ms/step - loss: 0.0805 - accuracy: 0.9745\n",
      "Test accuracy: 0.9745000004768372\n"
     ]
    }
   ],
   "source": [
    "\n",
    "from tensorflow.keras.layers import Dense, Flatten\n",
    "from tensorflow.keras.models import Sequential\n",
    "\n",
    "# Load MNIST dataset\n",
    "mnist = tf.keras.datasets.mnist\n",
    "(X_train, y_train), (X_test, y_test) = mnist.load_data()\n",
    "\n",
    "# Normalize data\n",
    "X_train, X_test = X_train / 255.0, X_test / 255.0\n",
    "\n",
    "# Build model\n",
    "model = Sequential([\n",
    "    Flatten(input_shape=(28, 28)),\n",
    "    Dense(128, activation='relu'),\n",
    "    Dense(10, activation='softmax')\n",
    "])\n",
    "\n",
    "# Compile model\n",
    "model.compile(optimizer='adam',\n",
    "              loss='sparse_categorical_crossentropy',\n",
    "              metrics=['accuracy'])\n",
    "\n",
    "# Train model\n",
    "model.fit(X_train, y_train, epochs=5)\n",
    "\n",
    "# Evaluate model\n",
    "test_loss, test_acc = model.evaluate(X_test, y_test)\n",
    "print(f'Test accuracy: {test_acc}')\n"
   ]
  }
 ],
 "metadata": {
  "kernelspec": {
   "display_name": "Python 3 (ipykernel)",
   "language": "python",
   "name": "python3"
  },
  "language_info": {
   "codemirror_mode": {
    "name": "ipython",
    "version": 3
   },
   "file_extension": ".py",
   "mimetype": "text/x-python",
   "name": "python",
   "nbconvert_exporter": "python",
   "pygments_lexer": "ipython3",
   "version": "3.11.5"
  }
 },
 "nbformat": 4,
 "nbformat_minor": 5
}
